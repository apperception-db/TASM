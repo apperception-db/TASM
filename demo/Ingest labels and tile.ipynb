{
 "cells": [
  {
   "cell_type": "code",
   "execution_count": 1,
   "id": "be2443ba",
   "metadata": {},
   "outputs": [],
   "source": [
    "# docker run --rm -it -p 8890:8890 --gpus=all -v $(pwd)/data:/data --name tasm tasm/tasm:latest /bin/bash"
   ]
  },
  {
   "cell_type": "code",
   "execution_count": 18,
   "id": "1ac9ae81",
   "metadata": {},
   "outputs": [],
   "source": [
    "import os\n",
    "import shutil\n",
    "import tasm\n",
    "import time\n",
    "\n",
    "NOTEBOOK_RESOURCES_PATH = '/data/catalog'\n",
    "# if os.path.exists(NOTEBOOK_RESOURCES_PATH):\n",
    "#     shutil.rmtree(NOTEBOOK_RESOURCES_PATH)\n",
    "# os.mkdir(NOTEBOOK_RESOURCES_PATH)\n",
    "\n",
    "tasm.configure_environment({\n",
    "    'default_db_path': os.path.join(NOTEBOOK_RESOURCES_PATH, 'labels.db'),\n",
    "    'catalog_path': os.path.join(NOTEBOOK_RESOURCES_PATH, 'resources') \n",
    "})"
   ]
  },
  {
   "cell_type": "code",
   "execution_count": 3,
   "id": "6089b5ea",
   "metadata": {},
   "outputs": [],
   "source": [
    "DETECTIONS_PATH = '/data/formatted_result.json'\n",
    "VIDEO_PATH = '/data/traffic-001.mp4'"
   ]
  },
  {
   "cell_type": "code",
   "execution_count": 10,
   "id": "88fa7485",
   "metadata": {},
   "outputs": [],
   "source": [
    "t = tasm.TASM()\n",
    "metadata_id = 'traffic-001'"
   ]
  },
  {
   "cell_type": "code",
   "execution_count": 9,
   "id": "55b9d6d8",
   "metadata": {},
   "outputs": [],
   "source": [
    "# Load detections.\n",
    "# import json\n",
    "# with open(DETECTIONS_PATH) as f:\n",
    "#     detections = json.load(f)\n",
    "\n",
    "# metadata_info = []\n",
    "# bound_width = lambda x : min(max(0, x), 3840)\n",
    "# bound_height = lambda y: min(max(0, y), 2160)\n",
    "# for obj, info in detections.items():\n",
    "#     object_type = info['object_type']\n",
    "#     for bbox, frame in zip(info['bboxes'], info['tracked_cnt']):\n",
    "#         x1 = bound_width(bbox[0][0])\n",
    "#         y1 = bound_height(bbox[0][1])\n",
    "#         x2 = bound_width(bbox[1][0])\n",
    "#         y2 = bound_height(bbox[1][1])\n",
    "#         if frame < 0 or x1 < 0 or y1 < 0 or x2 < 0 or y2 < 0:\n",
    "#             import pdb; pdb.set_trace()\n",
    "#         metadata_info.append(tasm.MetadataInfo(metadata_id, object_type, frame, x1, y1, x2, y2))\n",
    "#         metadata_info.append(tasm.MetadataInfo(metadata_id, obj, frame, x1, y1, x2, y2))\n",
    "\n",
    "# t.add_bulk_metadata(metadata_info)"
   ]
  },
  {
   "cell_type": "code",
   "execution_count": 6,
   "id": "68fde30d",
   "metadata": {},
   "outputs": [],
   "source": [
    "# Ingest video untiled.\n",
    "# t.store(VIDEO_PATH, 'traffic-001')"
   ]
  },
  {
   "cell_type": "code",
   "execution_count": 7,
   "id": "5ba416fb",
   "metadata": {},
   "outputs": [],
   "source": [
    "# Since we know the queries will be for cars, tile around them.\n",
    "# t.store_with_nonuniform_layout(VIDEO_PATH, \"traffic-001-cars\", \"traffic-001\", \"car\", False)"
   ]
  },
  {
   "cell_type": "code",
   "execution_count": 16,
   "id": "1b51d275",
   "metadata": {},
   "outputs": [
    {
     "data": {
      "image/png": "[encoded data removed]",
      "text/plain": [
       "<Figure size 432x288 with 5 Axes>"
      ]
     },
     "metadata": {
      "needs_background": "light"
     },
     "output_type": "display_data"
    }
   ],
   "source": [
    "# Look at a specific object.\n",
    "import matplotlib.pyplot as plt\n",
    "\n",
    "tiled_selection = t.select('traffic-001-cars', metadata_id, 'car-6607', 0, 54000)\n",
    "frame_cols = 5\n",
    "f, axs = plt.subplots(1, frame_cols)\n",
    "[ax.axis('off') for ax in axs.ravel()]\n",
    "num_obj = 0\n",
    "while num_obj < frame_cols:\n",
    "    car = tiled_selection.next()\n",
    "    if car.is_empty():\n",
    "        break\n",
    "    axs[num_obj].imshow(car.numpy_array())\n",
    "    num_obj += 1"
   ]
  },
  {
   "cell_type": "code",
   "execution_count": 19,
   "id": "f2276014",
   "metadata": {},
   "outputs": [
    {
     "name": "stdout",
     "output_type": "stream",
     "text": [
      "Untiled took  3.8003320917487144\n"
     ]
    }
   ],
   "source": [
    "# Get a video of car-1 crops from untiled video.\n",
    "t = tasm.TASM()\n",
    "start = time.perf_counter()\n",
    "t.get_video_roi(\n",
    "    '/data/out_videos/car-1-untiled.mp4', # output path\n",
    "    'traffic-001', # name in TASM\n",
    "    metadata_id, # metadata identifier in TASM\n",
    "    'car-1', # label name\n",
    "    0, # first frame inclusive\n",
    "    54000 # last frame exclusive\n",
    ")\n",
    "end = time.perf_counter()\n",
    "print('Untiled took ', end - start)"
   ]
  },
  {
   "cell_type": "code",
   "execution_count": 20,
   "id": "cd452f80",
   "metadata": {},
   "outputs": [
    {
     "name": "stdout",
     "output_type": "stream",
     "text": [
      "Untiled took  0.6545852050185204\n"
     ]
    }
   ],
   "source": [
    "# Get a video of car-1 crops from tiled video.\n",
    "t = tasm.TASM()\n",
    "start = time.perf_counter()\n",
    "t.get_video_roi(\n",
    "    '/data/out_videos/car-1-tiled.mp4', # output path\n",
    "    'traffic-001-cars', # name in TASM\n",
    "    metadata_id, # metadata identifier in TASM\n",
    "    'car-1', # label name\n",
    "    0, # first frame inclusive\n",
    "    54000 # last frame exclusive\n",
    ")\n",
    "end = time.perf_counter()\n",
    "print('Untiled took ', end - start)"
   ]
  },
  {
   "cell_type": "code",
   "execution_count": null,
   "id": "ed9db419",
   "metadata": {},
   "outputs": [],
   "source": []
  }
 ],
 "metadata": {
  "kernelspec": {
   "display_name": "Python 3",
   "language": "python",
   "name": "python3"
  },
  "language_info": {
   "codemirror_mode": {
    "name": "ipython",
    "version": 3
   },
   "file_extension": ".py",
   "mimetype": "text/x-python",
   "name": "python",
   "nbconvert_exporter": "python",
   "pygments_lexer": "ipython3",
   "version": "3.6.9"
  }
 },
 "nbformat": 4,
 "nbformat_minor": 5
}
