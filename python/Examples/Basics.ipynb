{
 "cells": [
  {
   "cell_type": "markdown",
   "id": "prerequisite-kinase",
   "metadata": {},
   "source": [
    "# This notebook walks through the basics of using TASM\n",
    "It covers\n",
    "- Loading metadata\n",
    "- Loading videos and storing them with and without tiles\n",
    "- Retrieving objects\n",
    "- (coming) Retrieving full frames\n",
    "- Automatically tiling videos as queries execute"
   ]
  },
  {
   "cell_type": "markdown",
   "id": "lovely-hampshire",
   "metadata": {},
   "source": [
    "## Setup: loading a video and detections."
   ]
  },
  {
   "cell_type": "code",
   "execution_count": null,
   "id": "administrative-peeing",
   "metadata": {},
   "outputs": [],
   "source": [
    "# Remove previously-stored videos, data.\n",
    "import os\n",
    "import shutil\n",
    "\n",
    "if os.path.exists('resources'):\n",
    "    shutil.rmtree('resources')\n",
    "if os.path.exists('labels.db'):\n",
    "    os.remove('labels.db')"
   ]
  },
  {
   "cell_type": "code",
   "execution_count": null,
   "id": "union-placement",
   "metadata": {},
   "outputs": [],
   "source": [
    "VIDEO_PATH = 'data/birds.mp4'\n",
    "DETECTIONS_PATH = 'data/birds.pkl'"
   ]
  },
  {
   "cell_type": "markdown",
   "id": "progressive-congo",
   "metadata": {},
   "source": [
    "### Load detections."
   ]
  },
  {
   "cell_type": "code",
   "execution_count": null,
   "id": "parallel-danish",
   "metadata": {},
   "outputs": [],
   "source": [
    "import pandas as pd\n",
    "\n",
    "detections = pd.read_pickle(DETECTIONS_PATH)\n",
    "detections = detections.astype({'x1': int, 'y1': int, 'x2': int, 'y2': int})\n",
    "detections.head()"
   ]
  },
  {
   "cell_type": "markdown",
   "id": "passing-kitty",
   "metadata": {},
   "source": [
    "### View detections on a few frames.\n",
    "Is it the most exciting video? No. But at one point I thought it was exciting enough to capture, so here we are."
   ]
  },
  {
   "cell_type": "code",
   "execution_count": null,
   "id": "dramatic-bolivia",
   "metadata": {
    "scrolled": true
   },
   "outputs": [],
   "source": [
    "import cv2\n",
    "import matplotlib.pyplot as plt\n",
    "\n",
    "def draw_box(img, label, x1, y1, x2, y2):\n",
    "    pt1 = (x1, y1)\n",
    "    pt2 = (x2, y2)\n",
    "    cv2.rectangle(img, pt1, pt2, (255, 0, 0), 2)\n",
    "    cv2.putText(img, label, (x1, y1 - 5), cv2.FONT_HERSHEY_SIMPLEX, 2, [255, 0, 0], 2)\n",
    "    return img\n",
    "\n",
    "num_frames = 5\n",
    "vc = cv2.VideoCapture(VIDEO_PATH)\n",
    "\n",
    "f, axs = plt.subplots(1, num_frames, figsize=(15, 15))\n",
    "[ax.axis('off') for ax in axs.ravel()]\n",
    "for f in range(num_frames):\n",
    "    ret, frame = vc.read()\n",
    "    if not ret:\n",
    "        break\n",
    "        \n",
    "    objects = detections[detections.frame == f]\n",
    "    for i, row in objects.iterrows():\n",
    "        frame = draw_box(frame, row.label, row.x1, row.y1, row.x2, row.y2)\n",
    "\n",
    "    axs[f].imshow(frame)"
   ]
  },
  {
   "cell_type": "markdown",
   "id": "negative-skiing",
   "metadata": {},
   "source": [
    "## Loading the video and detections into TASM."
   ]
  },
  {
   "cell_type": "code",
   "execution_count": null,
   "id": "bronze-mason",
   "metadata": {},
   "outputs": [],
   "source": [
    "import os\n",
    "import tasm\n",
    "\n",
    "t = tasm.TASM()\n",
    "\n",
    "# First, load the video without tiling into TASM.\n",
    "untiled_video_name = 'birds-untiled'\n",
    "t.store(VIDEO_PATH, untiled_video_name)\n",
    "\n",
    "# We can also store it with a uniform layout, e.g. 2x2.\n",
    "rows = 2\n",
    "cols = 2\n",
    "t.store_with_uniform_layout(VIDEO_PATH, 'birds-2x2', rows, cols)"
   ]
  },
  {
   "cell_type": "code",
   "execution_count": null,
   "id": "atlantic-departure",
   "metadata": {},
   "outputs": [],
   "source": [
    "# Add metadata about the video. \n",
    "# We could use t.add_metadata(video, label, frame, x1, y1, x2, y2).\n",
    "# However, since we have all of the metadata available, we can use t.add_bulk_metadata to add all of it at once.\n",
    "metadata_id = 'birds'\n",
    "label = 'bird'\n",
    "metadata_info = [\n",
    "    tasm.MetadataInfo(metadata_id, r.label, r.frame, r.x1, r.y1, r.x2, r.y2) \n",
    "    for _, r in detections.iterrows()\n",
    "]\n",
    "t.add_bulk_metadata(metadata_info)"
   ]
  },
  {
   "cell_type": "code",
   "execution_count": null,
   "id": "selected-dollar",
   "metadata": {},
   "outputs": [],
   "source": [
    "# Now, we can use the metadata to tile around birds.\n",
    "tiled_video_name = 'birds-birds'\n",
    "t.store_with_nonuniform_layout(VIDEO_PATH, tiled_video_name, metadata_id, label)"
   ]
  },
  {
   "cell_type": "markdown",
   "id": "buried-jefferson",
   "metadata": {},
   "source": [
    "## Retrieving objects of interest using TASM."
   ]
  },
  {
   "cell_type": "code",
   "execution_count": null,
   "id": "raised-paper",
   "metadata": {
    "scrolled": true
   },
   "outputs": [],
   "source": [
    "# First, let's retrieve a few birds from the un-tiled video.\n",
    "first_frame_inclusive = 0\n",
    "last_frame_exclusive = 5\n",
    "tiled_selection = t.select(tiled_video_name, metadata_id, label, first_frame_inclusive, last_frame_exclusive)\n",
    "\n",
    "# Inspect the returned instances.\n",
    "num_birds = 0\n",
    "num_cols = 5\n",
    "f, axs = plt.subplots(1, num_cols)\n",
    "[ax.axis('off') for ax in axs.ravel()]\n",
    "while True:\n",
    "    bird = tiled_selection.next()\n",
    "    if bird.is_empty():\n",
    "        break\n",
    "    w = bird.width()\n",
    "    h = bird.height()\n",
    "    axs[num_birds].imshow(bird.numpy_array())\n",
    "    num_birds += 1\n",
    "print(f'Detected {num_birds} birds.')"
   ]
  },
  {
   "cell_type": "code",
   "execution_count": null,
   "id": "racial-jefferson",
   "metadata": {},
   "outputs": [],
   "source": [
    "import time\n",
    "\n",
    "def time_selection(video_name, metadata_id, label, first_frame=None, last_frame=None):\n",
    "    start = time.perf_counter()\n",
    "    selection = t.select(video_name, metadata_id, label, first_frame, last_frame) \\\n",
    "                        if first_frame is not None and last_frame is not None \\\n",
    "                        else t.select(video_name, metadata_id, label)\n",
    "    num_objs = 0\n",
    "    while True:\n",
    "        obj = selection.next()\n",
    "        if obj.is_empty():\n",
    "            break\n",
    "        num_objs += 1\n",
    "    end = time.perf_counter()\n",
    "    return end - start, num_objs"
   ]
  },
  {
   "cell_type": "code",
   "execution_count": null,
   "id": "committed-mediterranean",
   "metadata": {},
   "outputs": [],
   "source": [
    "# Compare the time to retrieve all of the birds from the untiled video from the tiled video.\n",
    "# By not specifying first frame and last frame, TASM selects all instances of the object from the video.\n",
    "dur, num_birds = time_selection(untiled_video_name, metadata_id, label)\n",
    "print(f'Retrieved {num_birds} birds in {dur}')\n",
    "\n",
    "dur, num_birds = time_selection(tiled_video_name, metadata_id, label)\n",
    "print(f'Retrieved {num_birds} birds in {dur}')"
   ]
  },
  {
   "cell_type": "markdown",
   "id": "later-differential",
   "metadata": {},
   "source": [
    "## <span style=\"color:blue\">Coming: retrieving full frames from a tiled video</span>"
   ]
  },
  {
   "cell_type": "markdown",
   "id": "sitting-officer",
   "metadata": {},
   "source": [
    "## Automatically tiling a video."
   ]
  },
  {
   "cell_type": "code",
   "execution_count": null,
   "id": "assured-diploma",
   "metadata": {},
   "outputs": [],
   "source": [
    "# Start with an untiled video.\n",
    "t = tasm.TASM()\n",
    "incrementally_tiled_name = 'birds-incremental'\n",
    "t.store(VIDEO_PATH, incrementally_tiled_name)"
   ]
  },
  {
   "cell_type": "code",
   "execution_count": null,
   "id": "hourly-composite",
   "metadata": {},
   "outputs": [],
   "source": [
    "# Perform 10 selections on the un-tiled video over the first 5 seconds.\n",
    "first_frame_inclusive = 0\n",
    "last_frame_exclusive = 150\n",
    "num_selections = 10\n",
    "start = time.perf_counter()\n",
    "for i in range(num_selections):\n",
    "    time_selection(incrementally_tiled_name, metadata_id, label, first_frame_inclusive, last_frame_exclusive)\n",
    "print(f'{num_selections} selections over the untiled video took {time.perf_counter() - start}')"
   ]
  },
  {
   "cell_type": "code",
   "execution_count": null,
   "id": "amazing-africa",
   "metadata": {},
   "outputs": [],
   "source": [
    "# To automatically tile a video, we must first activate it so TASM will start tracking regret.\n",
    "# Activate regret-based re-tiling.\n",
    "t.activate_regret_based_tiling(incrementally_tiled_name, metadata_id)\n",
    "\n",
    "# Perform 0 selections with incremental tiling over the first 5 seconds.\n",
    "# Currently, the call to re-tile must be manually specified.\n",
    "# Moving this into the selection calls is tracked at https://github.com/maureendaum/TASM/issues/5.\n",
    "start = time.perf_counter()\n",
    "for i in range(num_selections):\n",
    "    time_selection(incrementally_tiled_name, metadata_id, label, first_frame_inclusive, last_frame_exclusive)\n",
    "    t.retile_based_on_regret(incrementally_tiled_name)\n",
    "print(f'{num_selections} selections with incremental tiling took {time.perf_counter() - start}')"
   ]
  }
 ],
 "metadata": {
  "kernelspec": {
   "display_name": "Python 3",
   "language": "python",
   "name": "python3"
  },
  "language_info": {
   "codemirror_mode": {
    "name": "ipython",
    "version": 3
   },
   "file_extension": ".py",
   "mimetype": "text/x-python",
   "name": "python",
   "nbconvert_exporter": "python",
   "pygments_lexer": "ipython3",
   "version": "3.6.9"
  }
 },
 "nbformat": 4,
 "nbformat_minor": 5
}
