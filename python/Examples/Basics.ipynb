{
 "cells": [
  {
   "cell_type": "markdown",
   "id": "prerequisite-kinase",
   "metadata": {},
   "source": [
    "# This notebook walks through the basics of using TASM.\n",
    "\n",
    "It uses a (relatively uninteresting) video of a bird with pre-computed object detections."
   ]
  },
  {
   "cell_type": "markdown",
   "id": "lovely-hampshire",
   "metadata": {},
   "source": [
    "## Setup: loading a video and detections."
   ]
  },
  {
   "cell_type": "code",
   "execution_count": null,
   "id": "union-placement",
   "metadata": {},
   "outputs": [],
   "source": [
    "VIDEO_PATH = 'data/birds.mp4'\n",
    "DETECTIONS_PATH = 'data/birds.pkl'"
   ]
  },
  {
   "cell_type": "markdown",
   "id": "progressive-congo",
   "metadata": {},
   "source": [
    "### Load detections."
   ]
  },
  {
   "cell_type": "code",
   "execution_count": null,
   "id": "parallel-danish",
   "metadata": {},
   "outputs": [],
   "source": [
    "import pandas as pd\n",
    "\n",
    "detections = pd.read_pickle(DETECTIONS_PATH)\n",
    "detections = detections.astype({'x1': int, 'y1': int, 'x2': int, 'y2': int})\n",
    "detections.head()"
   ]
  },
  {
   "cell_type": "markdown",
   "id": "passing-kitty",
   "metadata": {},
   "source": [
    "### View detections on a few frames."
   ]
  },
  {
   "cell_type": "code",
   "execution_count": null,
   "id": "dramatic-bolivia",
   "metadata": {},
   "outputs": [],
   "source": [
    "import cv2\n",
    "import matplotlib.pyplot as plt\n",
    "\n",
    "def draw_box(img, label, x1, y1, x2, y2):\n",
    "    pt1 = (x1, y1)\n",
    "    pt2 = (x2, y2)\n",
    "    cv2.rectangle(img, pt1, pt2, (255, 0, 0), 2)\n",
    "    cv2.putText(img, label, (x1, y1 - 5), cv2.FONT_HERSHEY_SIMPLEX, 2, [255, 0, 0], 2)\n",
    "    return img\n",
    "\n",
    "num_frames = 5\n",
    "vc = cv2.VideoCapture(VIDEO_PATH)\n",
    "\n",
    "for f in range(num_frames):\n",
    "    ret, frame = vc.read()\n",
    "    if not ret:\n",
    "        break\n",
    "        \n",
    "    objects = detections[detections.frame == f]\n",
    "    for i, row in objects.iterrows():\n",
    "        frame = draw_box(frame, row.label, row.x1, row.y1, row.x2, row.y2)\n",
    "    \n",
    "    plt.figure(figsize=(10, 10))\n",
    "    plt.axis('off')\n",
    "    plt.imshow(frame); plt.show()"
   ]
  },
  {
   "cell_type": "markdown",
   "id": "negative-skiing",
   "metadata": {},
   "source": [
    "## Loading the video and detections into TASM."
   ]
  },
  {
   "cell_type": "markdown",
   "id": "buried-jefferson",
   "metadata": {},
   "source": [
    "## Retrieving objects of interest using TASM."
   ]
  },
  {
   "cell_type": "code",
   "execution_count": null,
   "id": "exterior-source",
   "metadata": {},
   "outputs": [],
   "source": []
  }
 ],
 "metadata": {
  "kernelspec": {
   "display_name": "Python 3",
   "language": "python",
   "name": "python3"
  },
  "language_info": {
   "codemirror_mode": {
    "name": "ipython",
    "version": 3
   },
   "file_extension": ".py",
   "mimetype": "text/x-python",
   "name": "python",
   "nbconvert_exporter": "python",
   "pygments_lexer": "ipython3",
   "version": "3.6.9"
  }
 },
 "nbformat": 4,
 "nbformat_minor": 5
}
