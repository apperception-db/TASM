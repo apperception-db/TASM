{
 "cells": [
  {
   "cell_type": "markdown",
   "id": "prerequisite-kinase",
   "metadata": {},
   "source": [
    "# This notebook walks through the basics of using TASM."
   ]
  },
  {
   "cell_type": "markdown",
   "id": "lovely-hampshire",
   "metadata": {},
   "source": [
    "## Setup: loading a video and detections."
   ]
  },
  {
   "cell_type": "code",
   "execution_count": null,
   "id": "administrative-peeing",
   "metadata": {},
   "outputs": [],
   "source": [
    "# Remove previously-stored videos, data.\n",
    "# TODO: Switch to in-memory db.\n",
    "import os\n",
    "import shutil\n",
    "\n",
    "if os.path.exists('resources'):\n",
    "    shutil.rmtree('resources')\n",
    "if os.path.exists('labels.db'):\n",
    "    os.remove('labels.db')"
   ]
  },
  {
   "cell_type": "code",
   "execution_count": null,
   "id": "union-placement",
   "metadata": {},
   "outputs": [],
   "source": [
    "VIDEO_PATH = 'data/birds.mp4'\n",
    "DETECTIONS_PATH = 'data/birds.pkl'"
   ]
  },
  {
   "cell_type": "markdown",
   "id": "progressive-congo",
   "metadata": {},
   "source": [
    "### Load detections."
   ]
  },
  {
   "cell_type": "code",
   "execution_count": null,
   "id": "parallel-danish",
   "metadata": {},
   "outputs": [],
   "source": [
    "import pandas as pd\n",
    "\n",
    "detections = pd.read_pickle(DETECTIONS_PATH)\n",
    "detections = detections.astype({'x1': int, 'y1': int, 'x2': int, 'y2': int})\n",
    "detections.head()"
   ]
  },
  {
   "cell_type": "markdown",
   "id": "passing-kitty",
   "metadata": {},
   "source": [
    "### View detections on a few frames."
   ]
  },
  {
   "cell_type": "code",
   "execution_count": null,
   "id": "dramatic-bolivia",
   "metadata": {},
   "outputs": [],
   "source": [
    "import cv2\n",
    "import matplotlib.pyplot as plt\n",
    "\n",
    "def draw_box(img, label, x1, y1, x2, y2):\n",
    "    pt1 = (x1, y1)\n",
    "    pt2 = (x2, y2)\n",
    "    cv2.rectangle(img, pt1, pt2, (255, 0, 0), 2)\n",
    "    cv2.putText(img, label, (x1, y1 - 5), cv2.FONT_HERSHEY_SIMPLEX, 2, [255, 0, 0], 2)\n",
    "    return img\n",
    "\n",
    "num_frames = 5\n",
    "vc = cv2.VideoCapture(VIDEO_PATH)\n",
    "\n",
    "for f in range(num_frames):\n",
    "    ret, frame = vc.read()\n",
    "    if not ret:\n",
    "        break\n",
    "        \n",
    "    objects = detections[detections.frame == f]\n",
    "    for i, row in objects.iterrows():\n",
    "        frame = draw_box(frame, row.label, row.x1, row.y1, row.x2, row.y2)\n",
    "    \n",
    "    plt.figure(figsize=(10, 10))\n",
    "    plt.axis('off')\n",
    "    plt.imshow(frame); plt.show()"
   ]
  },
  {
   "cell_type": "markdown",
   "id": "negative-skiing",
   "metadata": {},
   "source": [
    "## Loading the video and detections into TASM."
   ]
  },
  {
   "cell_type": "code",
   "execution_count": null,
   "id": "bronze-mason",
   "metadata": {},
   "outputs": [],
   "source": [
    "import os\n",
    "import tasm\n",
    "\n",
    "t = tasm.TASM()\n",
    "\n",
    "# First, load the video without tiling into TASM.\n",
    "untiled_video_name = 'birds-untiled'\n",
    "t.store(VIDEO_PATH, untiled_video_name)\n",
    "\n",
    "# We can also store it with a uniform layout, e.g. 2x2.\n",
    "rows = 2\n",
    "cols = 2\n",
    "t.store_with_uniform_layout(VIDEO_PATH, 'birds-2x2', rows, cols)"
   ]
  },
  {
   "cell_type": "code",
   "execution_count": null,
   "id": "atlantic-departure",
   "metadata": {},
   "outputs": [],
   "source": [
    "# Add metadata about the video. \n",
    "# We could use t.add_metadata(video, label, frame, x1, y1, x2, y2).\n",
    "# However, since we have all of the metadata available, we can use t.add_bulk_metadata to add all of it at once.\n",
    "metadata_id = 'birds'\n",
    "label = 'bird'\n",
    "metadata_info = [\n",
    "    tasm.MetadataInfo(metadata_id, r.label, r.frame, r.x1, r.y1, r.x2, r.y2) \n",
    "    for _, r in detections.iterrows()\n",
    "]\n",
    "t.add_bulk_metadata(metadata_info)"
   ]
  },
  {
   "cell_type": "code",
   "execution_count": null,
   "id": "selected-dollar",
   "metadata": {},
   "outputs": [],
   "source": [
    "# Now, we can use the metadata to tile around birds.\n",
    "tiled_video_name = 'birds-birds'\n",
    "t.store_with_nonuniform_layout(VIDEO_PATH, tiled_video_name, metadata_id, label)"
   ]
  },
  {
   "cell_type": "markdown",
   "id": "buried-jefferson",
   "metadata": {},
   "source": [
    "## Retrieving objects of interest using TASM."
   ]
  },
  {
   "cell_type": "code",
   "execution_count": null,
   "id": "raised-paper",
   "metadata": {
    "scrolled": true
   },
   "outputs": [],
   "source": [
    "# First, let's retrieve a few birds from the un-tiled video.\n",
    "first_frame_inclusive = 0\n",
    "last_frame_exclusive = 5\n",
    "untiled_selection = t.select(untiled_video_name, metadata_id, label, first_frame_inclusive, last_frame_exclusive)\n",
    "\n",
    "# Inspect the returned instances.\n",
    "num_birds = 0\n",
    "while True:\n",
    "    bird = untiled_selection.next()\n",
    "    if bird.is_empty():\n",
    "        break\n",
    "    w = bird.width()\n",
    "    h = bird.height()\n",
    "    num_birds += 1\n",
    "    plt.axis('off')\n",
    "    plt.imshow(bird.numpy_array()); plt.show()\n",
    "print(f'Detected {num_birds} birds.')"
   ]
  },
  {
   "cell_type": "code",
   "execution_count": null,
   "id": "committed-mediterranean",
   "metadata": {},
   "outputs": [],
   "source": [
    "# Compare the time to retrieve all of the birds from the untiled video from the tiled video.\n",
    "# By not specifying first frame and last frame, TASM selects all instances of the object from the video.\n",
    "import time\n",
    "\n",
    "start = time.perf_counter()\n",
    "untiled_selection = t.select(untiled_video_name, metadata_id, label)\n",
    "num_birds = 0\n",
    "while True:\n",
    "    bird = untiled_selection.next()\n",
    "    if bird.is_empty():\n",
    "        break\n",
    "    num_birds += 1\n",
    "end = time.perf_counter()\n",
    "print(f'Retrieved {num_birds} birds in {end - start}')"
   ]
  },
  {
   "cell_type": "code",
   "execution_count": null,
   "id": "coupled-explosion",
   "metadata": {
    "scrolled": true
   },
   "outputs": [],
   "source": [
    "start = time.perf_counter()\n",
    "tiled_selection = t.select(tiled_video_name, metadata_id, label)\n",
    "num_birds = 0\n",
    "while True:\n",
    "    bird = tiled_selection.next()\n",
    "    if bird.is_empty():\n",
    "        break\n",
    "    num_birds += 1\n",
    "end = time.perf_counter()\n",
    "print(f'Retrieved {num_birds} birds in {end - start}')"
   ]
  },
  {
   "cell_type": "markdown",
   "id": "sitting-officer",
   "metadata": {},
   "source": [
    "## Automatically tiling a video."
   ]
  }
 ],
 "metadata": {
  "kernelspec": {
   "display_name": "Python 3",
   "language": "python",
   "name": "python3"
  },
  "language_info": {
   "codemirror_mode": {
    "name": "ipython",
    "version": 3
   },
   "file_extension": ".py",
   "mimetype": "text/x-python",
   "name": "python",
   "nbconvert_exporter": "python",
   "pygments_lexer": "ipython3",
   "version": "3.6.9"
  }
 },
 "nbformat": 4,
 "nbformat_minor": 5
}
