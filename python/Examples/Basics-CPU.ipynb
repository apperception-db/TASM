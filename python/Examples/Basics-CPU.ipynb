{
 "cells": [
  {
   "cell_type": "code",
   "execution_count": 1,
   "id": "administrative-peeing",
   "metadata": {},
   "outputs": [],
   "source": [
    "import tasm\n",
    "\n",
    "tasm.configure_environment({\n",
    "    'default_db_path': '/tasm/catalog/labels.db',\n",
    "    'catalog_path': '/tasm/catalog/resources' \n",
    "})"
   ]
  },
  {
   "cell_type": "code",
   "execution_count": 2,
   "id": "6ac87dc2",
   "metadata": {},
   "outputs": [],
   "source": [
    "import time"
   ]
  },
  {
   "cell_type": "code",
   "execution_count": 3,
   "id": "30ac814b",
   "metadata": {},
   "outputs": [
    {
     "name": "stdout",
     "output_type": "stream",
     "text": [
      "Untiled took  3.5349605999945197\n"
     ]
    }
   ],
   "source": [
    "# Get all birds from untiled video.\n",
    "t = tasm.TASM()\n",
    "start = time.perf_counter()\n",
    "t.get_video_roi(\n",
    "    '/tasm/catalog/selected_birds.mp4',\n",
    "    'birds-untiled',\n",
    "    'birds',\n",
    "    'bird',\n",
    "    0,\n",
    "    90\n",
    ")\n",
    "end = time.perf_counter()\n",
    "print('Untiled took ', end - start)"
   ]
  },
  {
   "cell_type": "code",
   "execution_count": 5,
   "id": "eaac7087",
   "metadata": {},
   "outputs": [
    {
     "name": "stdout",
     "output_type": "stream",
     "text": [
      "Tiled took  1.3714134999900125\n"
     ]
    }
   ],
   "source": [
    "# Get all birds from tiled video.\n",
    "t = tasm.TASM()\n",
    "start = time.perf_counter()\n",
    "t.get_video_roi(\n",
    "    '/tasm/catalog/selected_birds.mp4',\n",
    "    'birds-birds',\n",
    "    'birds',\n",
    "    'bird',\n",
    "    0,\n",
    "    90\n",
    ")\n",
    "end = time.perf_counter()\n",
    "print('Tiled took ', end - start)"
   ]
  }
 ],
 "metadata": {
  "kernelspec": {
   "display_name": "Python 3",
   "language": "python",
   "name": "python3"
  },
  "language_info": {
   "codemirror_mode": {
    "name": "ipython",
    "version": 3
   },
   "file_extension": ".py",
   "mimetype": "text/x-python",
   "name": "python",
   "nbconvert_exporter": "python",
   "pygments_lexer": "ipython3",
   "version": "3.6.9"
  }
 },
 "nbformat": 4,
 "nbformat_minor": 5
}
